{
 "cells": [
  {
   "cell_type": "code",
   "execution_count": 2,
   "metadata": {},
   "outputs": [
    {
     "name": "stderr",
     "output_type": "stream",
     "text": [
      "c:\\Users\\diamo\\anaconda3\\envs\\tf\\lib\\site-packages\\tqdm\\auto.py:21: TqdmWarning: IProgress not found. Please update jupyter and ipywidgets. See https://ipywidgets.readthedocs.io/en/stable/user_install.html\n",
      "  from .autonotebook import tqdm as notebook_tqdm\n"
     ]
    }
   ],
   "source": [
    "import numpy as np\n",
    "import pandas as pd\n",
    "import matplotlib.pyplot as plt\n",
    "\n",
    "from autogluon.tabular import TabularDataset, TabularPredictor\n",
    "\n",
    "from sklearn.model_selection import KFold\n",
    "from sklearn.metrics import root_mean_squared_error\n",
    "from scipy.stats import beta\n",
    "from scipy.optimize import fmin\n",
    "\n",
    "train = pd.read_csv('train.csv')\n",
    "test = pd.read_csv('test.csv')"
   ]
  },
  {
   "cell_type": "markdown",
   "metadata": {},
   "source": [
    "Some parts of the below code inspired from \n",
    "https://www.kaggle.com/code/cdeotte/nn-starter-lb-72300-cv-72800"
   ]
  },
  {
   "cell_type": "code",
   "execution_count": 3,
   "metadata": {},
   "outputs": [],
   "source": [
    "def cleanse_data(train, test):\n",
    "\n",
    "    test['price'] = 0\n",
    "    train['price'] = np.log(train['price'])\n",
    "    train_len = len(train)\n",
    "    train = pd.concat((train, test), axis=0, ignore_index=True)\n",
    "\n",
    "    numerical_features = ['milage']\n",
    "    categorical_features = [i for i in train.columns if i not in numerical_features and not i == 'price']\n",
    "\n",
    "    # Standardize numerical features\n",
    "    for i in numerical_features:\n",
    "        train[i] = np.log(train[i])\n",
    "        mean_val = train[i].mean()\n",
    "        std_val = train[i].std()\n",
    "        train[i] = train[i].apply(lambda x: (x-mean_val)/std_val)\n",
    "        train[i] = train[i].fillna(mean_val)\n",
    "    # train['milage'] = (train['milage']-min(train['milage']))/(max(train['milage'])-min(train['milage']))\n",
    "    # a, b = beta.fit(train['milage'])\n",
    "\n",
    "\n",
    "    for i in categorical_features:\n",
    "        \n",
    "        train[i].fillna('None')\n",
    "\n",
    "        avg_price_by_model = train.groupby('model')['price'].mean()\n",
    "\n",
    "        # Create a new column with the encoded values\n",
    "        train['model'] = train['model'].map(avg_price_by_model)\n",
    "\n",
    "        # If there are any models in the test set that weren't in the training set,\n",
    "        # you might want to fill those with the overall average price\n",
    "        # overall_avg_price = train['price'].mean()\n",
    "        # train['model'].fillna(overall_avg_price, inplace=True)\n",
    "        \n",
    "        # # Calculate the average price for each model\n",
    "        # avg_price = train.groupby(i)['price'].mean()\n",
    "\n",
    "        # # Sort models by average price\n",
    "        # sorted_models = avg_price.sort_values().index\n",
    "\n",
    "        # # Create a mapping from model to label\n",
    "        # model_to_label = {model: label for label, model in enumerate(sorted_models)}\n",
    "\n",
    "        # # Label encode the 'model' column\n",
    "        # train[i] = train[i].map(model_to_label)\n",
    "    \n",
    "    test = train[train_len:]\n",
    "    train = train[:train_len]\n",
    "\n",
    "    return train, test"
   ]
  },
  {
   "cell_type": "code",
   "execution_count": 60,
   "metadata": {},
   "outputs": [
    {
     "data": {
      "image/png": "[encoded data removed]",
      "text/plain": [
       "<Figure size 640x480 with 1 Axes>"
      ]
     },
     "metadata": {},
     "output_type": "display_data"
    }
   ],
   "source": [
    "plt.hist(np.log(train['milage']), bins=50)\n",
    "plt.show()"
   ]
  },
  {
   "cell_type": "code",
   "execution_count": 4,
   "metadata": {},
   "outputs": [],
   "source": [
    "# kf = KFold(n_splits=5, random_state=42, shuffle=True)\n",
    "\n",
    "# for i, (train_index, test_index) in enumerate(kf.split(train)):\n",
    "#     print(\"Fold: \", i+1)\n",
    "#     print(\"Train index: \", train_index)\n",
    "#     print(\"Test index: \", test_index)\n",
    "\n",
    "train_data, test_data = cleanse_data(train, test)\n",
    "\n",
    "test_id = test['id']\n",
    "\n",
    "# print(train_data.head())\n",
    "# print(test_data.head())\n",
    "\n",
    "train_data = TabularDataset(train_data.drop(columns='id'))\n",
    "test_data = TabularDataset(test_data.drop(columns='id'))"
   ]
  },
  {
   "cell_type": "code",
   "execution_count": 6,
   "metadata": {},
   "outputs": [
    {
     "name": "stdout",
     "output_type": "stream",
     "text": [
      "fold 0 / RMSE : 70307.7307011824\n",
      "fold 1 / RMSE : 63004.15221024341\n",
      "fold 2 / RMSE : 74794.48309391565\n",
      "fold 3 / RMSE : 62423.23022984252\n",
      "fold 4 / RMSE : 77397.99293811046\n"
     ]
    }
   ],
   "source": [
    "# from autogluon.tabular import TabularDataset, TabularPredictor\n",
    "\n",
    "# # test_id = test_data['id']\n",
    "\n",
    "# if type(train_data) is not TabularDataset:\n",
    "#     train_data = TabularDataset(train_data.drop(columns='id'))\n",
    "#     test_data = TabularDataset(test_data.drop(columns='id'))\n",
    "    \n",
    "# TRAIN_LN = int(0.8*len(train_data))\n",
    "# valid_data = train_data[TRAIN_LN:]\n",
    "# train_data = train_data[:TRAIN_LN]\n",
    "\n",
    "from sklearn.metrics import root_mean_squared_error\n",
    "\n",
    "kfold = KFold(n_splits=5, shuffle=True, random_state=544)\n",
    "\n",
    "idx = 0\n",
    "\n",
    "for train_index, test_index in kfold.split(train_data):\n",
    "    x_train, x_test = train_data.iloc[train_index], train_data.iloc[test_index]\n",
    "    y_train, y_test = train_data.iloc[train_index]['price'], train_data.iloc[test_index]['price']\n",
    "\n",
    "    params = {\n",
    "\t\t'GBM': [{'extra_trees': True, 'ag_args': {'name_suffix': 'XT'}}, {}, 'GBMLarge'],\n",
    "\t\t'XGB': {},\n",
    "\t\t'RF': [{'criterion': 'gini', 'ag_args': {'name_suffix': 'Gini', 'problem_types': ['binary', 'multiclass']}}, {'criterion': 'entropy', 'ag_args': {'name_suffix': 'Entr', 'problem_types': ['binary', 'multiclass']}}, {'criterion': 'squared_error', 'ag_args': {'name_suffix': 'MSE', 'problem_types': ['regression', 'quantile']}}],\n",
    "\t\t'XT': [{'criterion': 'gini', 'ag_args': {'name_suffix': 'Gini', 'problem_types': ['binary', 'multiclass']}}, {'criterion': 'entropy', 'ag_args': {'name_suffix': 'Entr', 'problem_types': ['binary', 'multiclass']}}, {'criterion': 'squared_error', 'ag_args': {'name_suffix': 'MSE', 'problem_types': ['regression', 'quantile']}}],\n",
    "\t\t'KNN': [{'weights': 'uniform', 'ag_args': {'name_suffix': 'Unif'}}, {'weights': 'distance', 'ag_args': {'name_suffix': 'Dist'}}],\n",
    "\t}\n",
    "    predictor = TabularPredictor(label='price', problem_type='regression', verbosity=0).fit(train_data=train_data, hyperparameters=params)\n",
    "    predictions = predictor.predict(x_test)\n",
    "    \n",
    "    print(f'fold {idx} / RMSE : {root_mean_squared_error(np.exp(y_test), np.exp(predictions))}')\n",
    "    idx += 1"
   ]
  },
  {
   "cell_type": "code",
   "execution_count": 5,
   "metadata": {},
   "outputs": [],
   "source": [
    "predictor = TabularPredictor.load(\"AutogluonModels/ag-20240913_095055\")\n",
    "# predictor.evaluate(test_data)\n",
    "# predictor.leaderboard(test_data)\n",
    "\n",
    "predictions = predictor.predict(test_data)\n",
    "# predictions_valid = predictor.predict(valid_data.drop(columns='price'))\n",
    "\n",
    "predictions = np.exp(predictions)\n",
    "# predictions_valid = np.exp(predictions_valid)\n",
    "\n",
    "# print(predictions.head())\n",
    "\n",
    "# rmse_val = root_mean_squared_error(np.exp(valid_data['price']), predictions_valid)\n",
    "# print(rmse_val)\n",
    "\n",
    "# result = pd.concat((test_id, predictions), axis=1)\n",
    "\n",
    "predictions.to_csv('result.csv', index=True)"
   ]
  }
 ],
 "metadata": {
  "kernelspec": {
   "display_name": "tf",
   "language": "python",
   "name": "python3"
  },
  "language_info": {
   "codemirror_mode": {
    "name": "ipython",
    "version": 3
   },
   "file_extension": ".py",
   "mimetype": "text/x-python",
   "name": "python",
   "nbconvert_exporter": "python",
   "pygments_lexer": "ipython3",
   "version": "3.9.7"
  }
 },
 "nbformat": 4,
 "nbformat_minor": 2
}
